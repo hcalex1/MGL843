{
 "cells": [
  {
   "cell_type": "code",
   "execution_count": null,
   "metadata": {},
   "outputs": [],
   "source": [
    "import pandas as pd\n",
    "import numpy as np\n",
    "from fractions import Fraction\n",
    "import statsmodels.api as sm"
   ]
  },
  {
   "attachments": {},
   "cell_type": "markdown",
   "metadata": {},
   "source": [
    "# Import Data"
   ]
  },
  {
   "cell_type": "code",
   "execution_count": null,
   "metadata": {},
   "outputs": [],
   "source": [
    "commits = pd.read_csv(\"../inputs-outputs/commits.csv\")\n",
    "commits.dropna(inplace=True, axis=0)\n",
    "commits"
   ]
  },
  {
   "cell_type": "code",
   "execution_count": null,
   "metadata": {},
   "outputs": [],
   "source": [
    "metrics = pd.read_csv(\"../inputs-outputs/metrics.csv\")\n",
    "metrics.dropna(inplace=True, axis=0)\n",
    "metrics"
   ]
  },
  {
   "cell_type": "code",
   "execution_count": null,
   "metadata": {},
   "outputs": [],
   "source": [
    "projects = pd.read_csv(\"../inputs-outputs/models/repo_list.csv\")\n",
    "projects"
   ]
  },
  {
   "attachments": {},
   "cell_type": "markdown",
   "metadata": {},
   "source": [
    "# Preprocess Data"
   ]
  },
  {
   "attachments": {},
   "cell_type": "markdown",
   "metadata": {},
   "source": [
    "Let keep only commits fixing issues and get their frequency per file."
   ]
  },
  {
   "cell_type": "code",
   "execution_count": null,
   "metadata": {},
   "outputs": [],
   "source": [
    "fix_commits = commits[commits[\"Subject\"].str.contains(\"fix\")]\n",
    "fix_count = pd.DataFrame(fix_commits[\"PathFile\"].value_counts())\n",
    "fix_count.columns = [\"FixCount\"]\n",
    "fix_count"
   ]
  },
  {
   "attachments": {},
   "cell_type": "markdown",
   "metadata": {},
   "source": [
    "Lets modify paths in the metrics data so that it matches the commit data."
   ]
  },
  {
   "cell_type": "code",
   "execution_count": null,
   "metadata": {},
   "outputs": [],
   "source": [
    "for path in projects[\"Source\"]:\n",
    "    metrics[\"PathFile\"] = metrics[\"PathFile\"].str.removeprefix(path + '/')\n",
    "\n",
    "metrics"
   ]
  },
  {
   "attachments": {},
   "cell_type": "markdown",
   "metadata": {},
   "source": [
    "Lets assign all files to a single class by dropping all files containing more than one class. We can then use this column as the index."
   ]
  },
  {
   "cell_type": "code",
   "execution_count": null,
   "metadata": {},
   "outputs": [],
   "source": [
    "metrics = metrics[metrics[\"PathFile\"].duplicated() == False]\n",
    "metrics"
   ]
  },
  {
   "attachments": {},
   "cell_type": "markdown",
   "metadata": {},
   "source": [
    "Let convert the LCOM column to float."
   ]
  },
  {
   "cell_type": "code",
   "execution_count": null,
   "metadata": {},
   "outputs": [],
   "source": [
    "metrics[\"LCOM\"] = metrics[\"LCOM\"].str.strip(\"()\").apply(Fraction).astype('float')\n",
    "metrics.dtypes\n",
    "\n",
    "metrics[\"LCOM\"].value_counts()"
   ]
  },
  {
   "attachments": {},
   "cell_type": "markdown",
   "metadata": {},
   "source": [
    "## Join the datasets"
   ]
  },
  {
   "attachments": {},
   "cell_type": "markdown",
   "metadata": {},
   "source": [
    "Lets associate each class to the the number of time it has been fixed. "
   ]
  },
  {
   "cell_type": "code",
   "execution_count": null,
   "metadata": {},
   "outputs": [],
   "source": [
    "joined_data = metrics.join(fix_count, on=\"PathFile\")\n",
    "joined_data[\"FixCount\"] = joined_data[\"FixCount\"].fillna(0)\n",
    "joined_data"
   ]
  },
  {
   "attachments": {},
   "cell_type": "markdown",
   "metadata": {},
   "source": [
    "## Create the Dataset\n",
    "Lets define the dependent variables as `X` and the independent variable as `y` where `0` denotes that no bug has been found and `1` denotes that at least one bug has been found."
   ]
  },
  {
   "cell_type": "code",
   "execution_count": null,
   "metadata": {},
   "outputs": [],
   "source": [
    "X = joined_data[[\"Attributes\", \"Methods\", \"LOC\", \"NOC\", \"fanOut\", \"WMC\", \"LCOM\"]]\n",
    "y = (joined_data[\"FixCount\"] > 0).astype(int)"
   ]
  },
  {
   "attachments": {},
   "cell_type": "markdown",
   "metadata": {},
   "source": [
    "None of the dependent variables seem to have a normal distribution (shown below). We must either normalize them or use a model that does not assume a normal distribution."
   ]
  },
  {
   "cell_type": "code",
   "execution_count": null,
   "metadata": {},
   "outputs": [],
   "source": [
    "X.hist(figsize=(7,7), bins=20)"
   ]
  },
  {
   "attachments": {},
   "cell_type": "markdown",
   "metadata": {},
   "source": [
    "Next lets verify the assumption that the dependent variables are independent of each other."
   ]
  },
  {
   "cell_type": "code",
   "execution_count": null,
   "metadata": {},
   "outputs": [],
   "source": [
    "X.corr(method='spearman')"
   ]
  },
  {
   "attachments": {},
   "cell_type": "markdown",
   "metadata": {},
   "source": [
    "The `Attributes` and `NOC` data have a correlation above 0.75. We will drop the `NOC` feature to maintain the independence of dependent variables."
   ]
  },
  {
   "cell_type": "code",
   "execution_count": null,
   "metadata": {},
   "outputs": [],
   "source": [
    "X.drop(\"NOC\", axis=1, inplace=True)"
   ]
  },
  {
   "attachments": {},
   "cell_type": "markdown",
   "metadata": {},
   "source": [
    "# Model\n",
    "We will use a logistic regression model for the following reasons:\n",
    "- the dependent variables aren't normal, and\n",
    "- the independent variable is binary."
   ]
  },
  {
   "cell_type": "code",
   "execution_count": null,
   "metadata": {},
   "outputs": [],
   "source": [
    "logit_model = sm.Logit(y, X).fit()\n",
    "\n",
    "logit_model.summary()"
   ]
  }
 ],
 "metadata": {
  "kernelspec": {
   "display_name": "ds",
   "language": "python",
   "name": "python3"
  },
  "language_info": {
   "codemirror_mode": {
    "name": "ipython",
    "version": 3
   },
   "file_extension": ".py",
   "mimetype": "text/x-python",
   "name": "python",
   "nbconvert_exporter": "python",
   "pygments_lexer": "ipython3",
   "version": "3.10.8"
  },
  "orig_nbformat": 4,
  "vscode": {
   "interpreter": {
    "hash": "b8ed440b4beaf384089afdc55bd28dcf6a0fa534f03d8fa843b41c8978ec5f2e"
   }
  }
 },
 "nbformat": 4,
 "nbformat_minor": 2
}
